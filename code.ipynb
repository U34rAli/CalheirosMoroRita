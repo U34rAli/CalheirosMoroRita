{
 "cells": [
  {
   "cell_type": "code",
   "execution_count": 72,
   "metadata": {},
   "outputs": [
    {
     "name": "stdout",
     "output_type": "stream",
     "text": [
      "Requirement already satisfied: nltk in c:\\users\\uali1\\anaconda3\\lib\\site-packages (3.4.5)\n",
      "Requirement already satisfied: six in c:\\users\\uali1\\anaconda3\\lib\\site-packages (from nltk) (1.14.0)\n"
     ]
    },
    {
     "data": {
      "text/plain": [
       "True"
      ]
     },
     "execution_count": 72,
     "metadata": {},
     "output_type": "execute_result"
    }
   ],
   "source": [
    "! pip install nltk\n",
    "import csv\n",
    "import math\n",
    "import nltk\n",
    "from nltk.tokenize import word_tokenize, RegexpTokenizer\n",
    "from nltk.stem import WordNetLemmatizer\n",
    "from nltk.stem.snowball import SnowballStemmer\n",
    "nltk.download('punkt')\n",
    "nltk.download('wordnet')"
   ]
  },
  {
   "cell_type": "code",
   "execution_count": 67,
   "metadata": {},
   "outputs": [],
   "source": [
    "# remove punctuation from the string\n",
    "tokenizer = RegexpTokenizer(r'\\w+')\n",
    "# convert word to its base form like running to run.\n",
    "lemmatizer = WordNetLemmatizer() \n",
    "# get stem of the word.\n",
    "stemmer = SnowballStemmer(\"english\")"
   ]
  },
  {
   "cell_type": "code",
   "execution_count": 68,
   "metadata": {},
   "outputs": [],
   "source": [
    "# Read all words mapping from the file.\n",
    "word_mapping = {}\n",
    "with open('wordmapping.csv') as csv_file:\n",
    "    csv_reader = csv.reader(csv_file, delimiter=',')\n",
    "    for row in csv_reader:\n",
    "        word = stemmer.stem( lemmatizer.lemmatize(row[0]) )\n",
    "        word_mapping[ word ] = row[1]"
   ]
  },
  {
   "cell_type": "code",
   "execution_count": 69,
   "metadata": {},
   "outputs": [],
   "source": [
    "# Read dataset line by line\n",
    "with open('dataset-CalheirosMoroRita-2017.csv') as csv_file:\n",
    "    csv_reader = csv.reader(csv_file, delimiter=',')\n",
    "    skip_first = True\n",
    "    csv_lines = []\n",
    "    current_line = 1\n",
    "    list_of_socres = {}\n",
    "    for row in csv_reader:\n",
    "#       each row is a review, convert it into a string, then tokenize it using nltk.tokenizer\n",
    "#       get lemma of each word, then get stem of each word in review.\n",
    "        string = ''.join(row)\n",
    "        tokens = tokenizer.tokenize(string.lower())\n",
    "        tokens = [lemmatizer.lemmatize(token)  for token in tokens]\n",
    "        tokens = [stemmer.stem(token)  for token in tokens]\n",
    "#       save each review in list to access reveiws using list indexing\n",
    "        csv_lines.append(string)\n",
    "        if skip_first:\n",
    "            skip_first = False\n",
    "            continue\n",
    "#       check if words in reviews exist in specific review if yes then get its word mapping.\n",
    "        words = []\n",
    "        total_weight = 0\n",
    "        for i in tokens:\n",
    "            if i in word_mapping:\n",
    "                val = int(word_mapping.get(i))\n",
    "                total_weight += val\n",
    "                words.append( (i, val) )\n",
    "#       calculate the setimental score of each review and save it into dictionary structure.\n",
    "        sentimental_score = math.ceil( (total_weight/len(tokens))*100 )\n",
    "        list_of_socres[current_line] = {\"score\":sentimental_score, \n",
    "                                        \"weight\": total_weight, \"total_words\":len(tokens),\n",
    "                                        \"words weight\": words\n",
    "                                       }\n",
    "        current_line += 1        "
   ]
  },
  {
   "cell_type": "code",
   "execution_count": 70,
   "metadata": {},
   "outputs": [
    {
     "name": "stdout",
     "output_type": "stream",
     "text": [
      "Syntax: 2 details  {'score': 24, 'weight': 9, 'total_words': 39, 'words weight': [('fantast', 2), ('natur', 1), ('great', 3), ('servic', 1), ('enjoy', 1), ('thank', 1)]}\n"
     ]
    }
   ],
   "source": [
    "# details for each syntax can be get from list_of_socres list variable, like below\n",
    "syntax = 2\n",
    "print(f\"Syntax: {syntax} details \", list_of_socres[syntax])"
   ]
  },
  {
   "cell_type": "code",
   "execution_count": 71,
   "metadata": {},
   "outputs": [
    {
     "name": "stdout",
     "output_type": "stream",
     "text": [
      "Requirement already satisfied: pillow in c:\\users\\uali1\\anaconda3\\lib\\site-packages (7.0.0)\n"
     ]
    }
   ],
   "source": []
  },
  {
   "cell_type": "code",
   "execution_count": null,
   "metadata": {},
   "outputs": [],
   "source": []
  }
 ],
 "metadata": {
  "kernelspec": {
   "display_name": "Python 3",
   "language": "python",
   "name": "python3"
  },
  "language_info": {
   "codemirror_mode": {
    "name": "ipython",
    "version": 3
   },
   "file_extension": ".py",
   "mimetype": "text/x-python",
   "name": "python",
   "nbconvert_exporter": "python",
   "pygments_lexer": "ipython3",
   "version": "3.7.6"
  }
 },
 "nbformat": 4,
 "nbformat_minor": 4
}
